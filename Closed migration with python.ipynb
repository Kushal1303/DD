{
 "cells": [
  {
   "cell_type": "code",
   "execution_count": 2,
   "metadata": {},
   "outputs": [],
   "source": [
    "import numpy as np\n",
    "import matplotlib.pyplot as plt\n",
    "import pandas as pd"
   ]
  },
  {
   "cell_type": "code",
   "execution_count": 23,
   "metadata": {},
   "outputs": [
    {
     "data": {
      "text/html": [
       "<div>\n",
       "<style scoped>\n",
       "    .dataframe tbody tr th:only-of-type {\n",
       "        vertical-align: middle;\n",
       "    }\n",
       "\n",
       "    .dataframe tbody tr th {\n",
       "        vertical-align: top;\n",
       "    }\n",
       "\n",
       "    .dataframe thead th {\n",
       "        text-align: right;\n",
       "    }\n",
       "</style>\n",
       "<table border=\"1\" class=\"dataframe\">\n",
       "  <thead>\n",
       "    <tr style=\"text-align: right;\">\n",
       "      <th></th>\n",
       "      <th>FP</th>\n",
       "      <th>h</th>\n",
       "      <th>GH</th>\n",
       "      <th>0.052</th>\n",
       "      <th>MW</th>\n",
       "      <th>HSPG</th>\n",
       "    </tr>\n",
       "  </thead>\n",
       "  <tbody>\n",
       "    <tr>\n",
       "      <th>0</th>\n",
       "      <td>0</td>\n",
       "      <td>0</td>\n",
       "      <td>0</td>\n",
       "      <td>0</td>\n",
       "      <td>0</td>\n",
       "      <td>0</td>\n",
       "    </tr>\n",
       "    <tr>\n",
       "      <th>1</th>\n",
       "      <td>1</td>\n",
       "      <td>1</td>\n",
       "      <td>1</td>\n",
       "      <td>1</td>\n",
       "      <td>1</td>\n",
       "      <td>1</td>\n",
       "    </tr>\n",
       "    <tr>\n",
       "      <th>2</th>\n",
       "      <td>2</td>\n",
       "      <td>2</td>\n",
       "      <td>2</td>\n",
       "      <td>2</td>\n",
       "      <td>2</td>\n",
       "      <td>2</td>\n",
       "    </tr>\n",
       "    <tr>\n",
       "      <th>3</th>\n",
       "      <td>3</td>\n",
       "      <td>3</td>\n",
       "      <td>3</td>\n",
       "      <td>3</td>\n",
       "      <td>3</td>\n",
       "      <td>3</td>\n",
       "    </tr>\n",
       "    <tr>\n",
       "      <th>4</th>\n",
       "      <td>4</td>\n",
       "      <td>4</td>\n",
       "      <td>4</td>\n",
       "      <td>4</td>\n",
       "      <td>4</td>\n",
       "      <td>4</td>\n",
       "    </tr>\n",
       "    <tr>\n",
       "      <th>...</th>\n",
       "      <td>...</td>\n",
       "      <td>...</td>\n",
       "      <td>...</td>\n",
       "      <td>...</td>\n",
       "      <td>...</td>\n",
       "      <td>...</td>\n",
       "    </tr>\n",
       "    <tr>\n",
       "      <th>9995</th>\n",
       "      <td>9995</td>\n",
       "      <td>9995</td>\n",
       "      <td>9995</td>\n",
       "      <td>9995</td>\n",
       "      <td>9995</td>\n",
       "      <td>9995</td>\n",
       "    </tr>\n",
       "    <tr>\n",
       "      <th>9996</th>\n",
       "      <td>9996</td>\n",
       "      <td>9996</td>\n",
       "      <td>9996</td>\n",
       "      <td>9996</td>\n",
       "      <td>9996</td>\n",
       "      <td>9996</td>\n",
       "    </tr>\n",
       "    <tr>\n",
       "      <th>9997</th>\n",
       "      <td>9997</td>\n",
       "      <td>9997</td>\n",
       "      <td>9997</td>\n",
       "      <td>9997</td>\n",
       "      <td>9997</td>\n",
       "      <td>9997</td>\n",
       "    </tr>\n",
       "    <tr>\n",
       "      <th>9998</th>\n",
       "      <td>9998</td>\n",
       "      <td>9998</td>\n",
       "      <td>9998</td>\n",
       "      <td>9998</td>\n",
       "      <td>9998</td>\n",
       "      <td>9998</td>\n",
       "    </tr>\n",
       "    <tr>\n",
       "      <th>9999</th>\n",
       "      <td>9999</td>\n",
       "      <td>9999</td>\n",
       "      <td>9999</td>\n",
       "      <td>9999</td>\n",
       "      <td>9999</td>\n",
       "      <td>9999</td>\n",
       "    </tr>\n",
       "  </tbody>\n",
       "</table>\n",
       "<p>10000 rows × 6 columns</p>\n",
       "</div>"
      ],
      "text/plain": [
       "        FP     h    GH  0.052    MW  HSPG\n",
       "0        0     0     0      0     0     0\n",
       "1        1     1     1      1     1     1\n",
       "2        2     2     2      2     2     2\n",
       "3        3     3     3      3     3     3\n",
       "4        4     4     4      4     4     4\n",
       "...    ...   ...   ...    ...   ...   ...\n",
       "9995  9995  9995  9995   9995  9995  9995\n",
       "9996  9996  9996  9996   9996  9996  9996\n",
       "9997  9997  9997  9997   9997  9997  9997\n",
       "9998  9998  9998  9998   9998  9998  9998\n",
       "9999  9999  9999  9999   9999  9999  9999\n",
       "\n",
       "[10000 rows x 6 columns]"
      ]
     },
     "execution_count": 23,
     "metadata": {},
     "output_type": "execute_result"
    }
   ],
   "source": [
    "df = pd.DataFrame({\"FP\": range(10000),\"h\": range(10000),\"GH\": range(10000),\"0.052\": range(10000),\"MW\": range(10000),\"HSPG\": range(10000),(SIDPP)})\n",
    "df"
   ]
  },
  {
   "cell_type": "code",
   "execution_count": 14,
   "metadata": {},
   "outputs": [
    {
     "name": "stdout",
     "output_type": "stream",
     "text": [
      "Enter depth10000\n",
      "Enter mud weight(ppg)12.5\n",
      "Enter  kick(ppg)13\n",
      "Enter kick volume(bbls)10\n",
      "Enter casing ID(inch)8.5\n",
      "Enter drill string OD(inch)5\n"
     ]
    }
   ],
   "source": [
    "h = float(input(\"Enter depth\"))\n",
    "MW = float(input(\"Enter mud weight(ppg)\"))\n",
    "Pwf = float(input(\"Enter  kick(ppg)\"))\n",
    "Vi = float(input(\"Enter kick volume(bbls)\"))\n",
    "ID = float(input(\"Enter casing ID(inch)\"))\n",
    "Dod = float(input(\"Enter drill string OD(inch)\"))"
   ]
  },
  {
   "cell_type": "code",
   "execution_count": 15,
   "metadata": {},
   "outputs": [
    {
     "name": "stdout",
     "output_type": "stream",
     "text": [
      "HydroStatic Pressure 6500.0 psi\n"
     ]
    }
   ],
   "source": [
    "HSP=0.052*MW*h\n",
    "print(\"HydroStatic Pressure\", HSP,\"psi\")"
   ]
  },
  {
   "cell_type": "code",
   "execution_count": 16,
   "metadata": {},
   "outputs": [
    {
     "name": "stdout",
     "output_type": "stream",
     "text": [
      "Formation Pressure 6759.999999999999 psi\n"
     ]
    }
   ],
   "source": [
    "FP=0.052*Pwf*h\n",
    "print(\"Formation Pressure\",FP,\"psi\")"
   ]
  },
  {
   "cell_type": "code",
   "execution_count": 17,
   "metadata": {},
   "outputs": [
    {
     "name": "stdout",
     "output_type": "stream",
     "text": [
      "shut in drill pipe pressure 259.9999999999991 psi\n"
     ]
    }
   ],
   "source": [
    "SIDPP=FP-HSP\n",
    "print(\"shut in drill pipe pressure\",SIDPP,\"psi\")"
   ]
  },
  {
   "cell_type": "code",
   "execution_count": 18,
   "metadata": {},
   "outputs": [
    {
     "name": "stdout",
     "output_type": "stream",
     "text": [
      "Annalus Capacity 0.04590052457742374\n"
     ]
    }
   ],
   "source": [
    "AC=(ID**2-Dod**2)/1029.4\n",
    "print(\"Annalus Capacity\",AC)\n"
   ]
  },
  {
   "cell_type": "code",
   "execution_count": 19,
   "metadata": {},
   "outputs": [
    {
     "name": "stdout",
     "output_type": "stream",
     "text": [
      "Gas Influsx Height 217.86243386243387 ft\n"
     ]
    }
   ],
   "source": [
    "GH=Vi/AC\n",
    "print(\"Gas Influsx Height\",GH,\"ft\")"
   ]
  },
  {
   "cell_type": "code",
   "execution_count": 20,
   "metadata": {},
   "outputs": [
    {
     "name": "stdout",
     "output_type": "stream",
     "text": [
      "Hydrostatic Pressure of gas 26.143492063492065 psi\n"
     ]
    }
   ],
   "source": [
    "HSPG=0.12*GH\n",
    "print(\"Hydrostatic Pressure of gas\",HSPG,\"psi\")"
   ]
  },
  {
   "cell_type": "code",
   "execution_count": 21,
   "metadata": {},
   "outputs": [
    {
     "name": "stdout",
     "output_type": "stream",
     "text": [
      "Shut in casing pressure 375.46708994708933 psi\n"
     ]
    }
   ],
   "source": [
    "SICPP=(FP)-((h-GH)*0.052*MW+HSPG)\n",
    "print(\"Shut in casing pressure\",SICPP,\"psi\")"
   ]
  },
  {
   "cell_type": "code",
   "execution_count": 22,
   "metadata": {},
   "outputs": [
    {
     "name": "stdout",
     "output_type": "stream",
     "text": [
      "Pressure at bubble 6733.856507936507 psi\n"
     ]
    }
   ],
   "source": [
    "PAB=(FP)-(GH*0.12)\n",
    "print(\"Pressure at bubble\",PAB,\"psi\")"
   ]
  },
  {
   "cell_type": "code",
   "execution_count": null,
   "metadata": {},
   "outputs": [],
   "source": []
  }
 ],
 "metadata": {
  "kernelspec": {
   "display_name": "Python 3",
   "language": "python",
   "name": "python3"
  },
  "language_info": {
   "codemirror_mode": {
    "name": "ipython",
    "version": 3
   },
   "file_extension": ".py",
   "mimetype": "text/x-python",
   "name": "python",
   "nbconvert_exporter": "python",
   "pygments_lexer": "ipython3",
   "version": "3.7.6"
  }
 },
 "nbformat": 4,
 "nbformat_minor": 4
}
